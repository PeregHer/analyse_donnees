{
 "cells": [
  {
   "cell_type": "markdown",
   "metadata": {},
   "source": [
    "\n",
    "\n",
    "\n",
    "\n",
    "\n",
    "\n",
    "\n",
    "\n",
    "\n",
    "\n",
    "# <center>CAHIER DES CHARGES</center>\n",
    "\n",
    "# <center>__________________</center>\n",
    "\n",
    "## <center>Projet: Governor's Office of Administration </center>\n",
    "\n",
    "## <center>__________________</center>\n",
    "\n",
    "### <center>KusanaKorp</center>\n",
    "\n",
    "### <center>__________________</center>\n",
    "\n",
    "### <center>Pereg & Thomas</center>\n",
    "\n",
    "\n",
    "<p style=\"page-break-after:always;\"></p>"
   ]
  },
  {
   "cell_type": "markdown",
   "metadata": {},
   "source": [
    "## Table des matières\n",
    "\n",
    "* [1. Introduction](#intro)\n",
    "    * [1.1. Motivations](#section_1_1)\n",
    "        * [1.1.1. Le client](#section_1_1_1)\n",
    "        * [1.1.2. Le problème](#section_1_1_2)\n",
    "        * [1.1.3. L'existant](#section_1_1_3)\n",
    "        * [1.1.4. Le besoin non satisfait](#section_1_1_4)\n",
    "        * [1.1.5. Les objectifs](#section_1_1_5)\n",
    "    * [1.2. Contexte](#section_1_2)\n",
    "        * [1.2.1. Précisions sur le client](#section_1_2_1)\n",
    "        * [1.2.2. Marché](#section_1_2_2)\n",
    "* [2. Documentation](#docu)\n",
    "    * [2.1. Terminologie métier](#section_2_1)\n",
    "    * [2.2. Bibliographie succinte](#section_2_2)\n",
    "* [3. Profil des utilisateurs finaux](#profil)\n",
    "    * [3.1. En utilisation](#section_3_1)\n",
    "    * [3.2. En exploitation](#section_3_2)\n",
    "    * [3.3. En maintenance](#section_3_3)    \n",
    "    * [3.4. Environnement d'utilisation](#section_3_4)\n",
    "* [4. Fonctions à réaliser](#fonctions)\n",
    "    * [4.1. Ce que le système doit faire](#section_4_1)\n",
    "    * [4.2. Ce que le système ne doit pas faire](#section_4_2)\n",
    "* [5. Contrainte du système](#contrainte)\n",
    "    * [5.1. Contraintes matérielles](#section_5_1)\n",
    "    * [5.2. Contraintes logicielles](#section_5_2)\n",
    "    * [5.3. Contraintes fonctionnelles](#section_5_3)    \n",
    "    * [5.4. Contraintes d'ergonomie](#section_5_4)\n",
    "    * [5.5. Autres facteurs de qualité exigés par le client](#section_5_5)\n",
    "* [6. Aspects contractuels](#aspects)\n",
    "    * [6.1. Délais et protocole de livraison](#section_6_1)\n",
    "    * [6.2. Aspect juridique et commerciaux](#section_6_2)\n",
    "    \n",
    "<p style=\"page-break-after:always;\"></p>"
   ]
  },
  {
   "cell_type": "markdown",
   "metadata": {
    "id": "ocs0RRkIpf-y"
   },
   "source": [
    "## 1. Introduction <a class=\"anchor\" id=\"intro\"></a>"
   ]
  },
  {
   "cell_type": "markdown",
   "metadata": {
    "id": "zteuMGSL05Qb"
   },
   "source": [
    "**Projet : prédiction des appels au 911 en Pennsylvanie.**   \n",
    "\n",
    "On propose une IA qui va prédire la répartition sur l'état de Pennsylvanie des appels d'urgence au 911 sur un laps de temps défini (un mois, une semaine, une journée).    \n",
    "\n",
    "A partir de notre jeu de données, on peut créer un modèle qui permettrait d'anticiper les flux d'appels et donc de mieux coordonner les moyens humains et matériels."
   ]
  },
  {
   "cell_type": "markdown",
   "metadata": {
    "id": "10Eo3FD8qlz8"
   },
   "source": [
    "### 1.1. Motivations <a class=\"anchor\" id=\"section_1_1\"></a>"
   ]
  },
  {
   "cell_type": "markdown",
   "metadata": {
    "id": "t3hA1DJIpmjx"
   },
   "source": [
    "#### 1.1.1. Le client <a class=\"anchor\" id=\"section_1_1_1\"></a>\n",
    "\n",
    "Le client est l'état de Pennsylvanie qui souhaite un outil pour améliorer la fluidité de sa réponse aux appels d'urgence."
   ]
  },
  {
   "cell_type": "markdown",
   "metadata": {
    "id": "koqKLrsVpmpA"
   },
   "source": [
    "#### 1.1.2. Le problème <a class=\"anchor\" id=\"section_1_1_2\"></a>\n",
    "\n",
    "Le problème actuel est que le temps que l'équipe d'urgence arrive sur place, lors d'un appel, est parfois beaucoup trop long dû à une mauvaise gestion des moyens matériels et du personnel."
   ]
  },
  {
   "cell_type": "markdown",
   "metadata": {
    "id": "oduReS_3pmsG"
   },
   "source": [
    "#### 1.1.3. L'existant <a class=\"anchor\" id=\"section_1_1_3\"></a>\n",
    "\n",
    "Actuellement, le problème n'est que partiellement traité. La disposition des moyens se fait selon l'expérience des chefs d'équipes."
   ]
  },
  {
   "cell_type": "markdown",
   "metadata": {
    "id": "PIrFfBuypmvB"
   },
   "source": [
    "#### 1.1.4. Le besoin non satisfait <a class=\"anchor\" id=\"section_1_1_4\"></a>\n",
    "\n",
    "Une répartition des moyens parfois mauvaise qui mène a des délais trop longs pour certaines interventions.  \n",
    "\n"
   ]
  },
  {
   "cell_type": "markdown",
   "metadata": {
    "id": "X_OspNP0pmx0"
   },
   "source": [
    "#### 1.1.5. Les objectifs <a class=\"anchor\" id=\"section_1_1_5\"></a>\n",
    "\n",
    "Proposer un outil qui apporterait des prédictions plus claires sur les besoins des équipes d'urgences en fonction de la date, de l'horaire et des moyens disponibles.   \n",
    "\n",
    "Dans le but de pouvoir optimiser la répartition des équipes et des moyens matériels."
   ]
  },
  {
   "cell_type": "markdown",
   "metadata": {
    "id": "uGNO88Aqpm0e"
   },
   "source": [
    "### 1.2. Contexte <a class=\"anchor\" id=\"section_1_2\"></a>"
   ]
  },
  {
   "cell_type": "markdown",
   "metadata": {
    "id": "GlxqhBwCpm39"
   },
   "source": [
    "#### 1.2.1. Précisions sur le client <a class=\"anchor\" id=\"section_1_2_1\"></a>\n",
    "\n",
    "Il faut que l'application soit sécurisée et qu'elle s'intègre dans une suite logicielle déjà existante pour le personnel d'urgence.\n",
    "\n",
    "L'application doit pouvoir être facilement utilisable par tous les employés des équipes d'urgence et doit être accessible depuis n'importe quel outil de communication que les équipes utilisent."
   ]
  },
  {
   "cell_type": "markdown",
   "metadata": {
    "id": "OZ3Ldw5MqRC-"
   },
   "source": [
    "#### 1.2.2. Marché <a class=\"anchor\" id=\"section_1_2_2\"></a>\n",
    "\n",
    "La Pennsylvanie étant un état test pour notre IA, il est possible que dans le futur des solutions identiques soient mises en place dans d'autres états voisins et sur l'ensemble de l'Amérique du Nord."
   ]
  },
  {
   "cell_type": "markdown",
   "metadata": {
    "id": "N8zhukoeqRF4"
   },
   "source": [
    "## 2. Documentation <a class=\"anchor\" id=\"docu\"></a>"
   ]
  },
  {
   "cell_type": "markdown",
   "metadata": {
    "id": "RoIAP7D_qRJf"
   },
   "source": [
    "### 2.1. Terminologie métier <a class=\"anchor\" id=\"section_2_1\"></a>\n",
    "\n",
    "- Types d'appels d'urgence (Fire, Traffic, EMS)\n",
    "- Descriptions de l'urgence (ex: Fall Victim)\n"
   ]
  },
  {
   "cell_type": "markdown",
   "metadata": {
    "id": "O8mh7n2aqRNU"
   },
   "source": [
    "### 2.2. Bibliographie succinte <a class=\"anchor\" id=\"section_2_2\"></a>\n",
    " \n",
    "Pas de ressources autres que le jeu de données.   \n",
    "Il faut donc une description précise de notre jeu de données par les services d'urgence.\n",
    "\n"
   ]
  },
  {
   "cell_type": "markdown",
   "metadata": {
    "id": "A1VwKXjSqRP2"
   },
   "source": [
    "## 3. Profil des utilisateurs finaux <a class=\"anchor\" id=\"profil\"></a>"
   ]
  },
  {
   "cell_type": "markdown",
   "metadata": {
    "id": "cCcfA7THqRSW"
   },
   "source": [
    "### 3.1. En utilisation <a class=\"anchor\" id=\"section_3_1\"></a>\n",
    "\n",
    "Les utilisateurs finaux sont néophytes en calcul statistiques et IA.  \n",
    "Il faut donc que l'application propose un affichage plutôt graphique, facile à comprendre et avec une explication précise pour chaque figure présentée."
   ]
  },
  {
   "cell_type": "markdown",
   "metadata": {
    "id": "WiIeMs-hq-7U"
   },
   "source": [
    "### 3.2. En exploitation <a class=\"anchor\" id=\"section_3_2\"></a>\n",
    "\n",
    "L'exploitation est à la charge d'un responsable d'équipe d'intervention d'urgence pour orienter le tri des figures proposées par notre application.  \n",
    "\n",
    "C'est à lui de s'assurer que l'application fonctionne correctement et qu'elle reste accessible pour ses équipes."
   ]
  },
  {
   "cell_type": "markdown",
   "metadata": {
    "id": "cIxsaeN3q--p"
   },
   "source": [
    "### 3.3. En maintenance <a class=\"anchor\" id=\"section_3_3\"></a>\n",
    "\n",
    "Nous assurons un service de maintenance en continu 24/24 et 7/7 défini par le forfait maintenance que le client s'engage à payer pour une durée minimale de 6 mois."
   ]
  },
  {
   "cell_type": "markdown",
   "metadata": {
    "id": "hOo8oVVbq_CO"
   },
   "source": [
    "### 3.4. Environnement d'utilisation <a class=\"anchor\" id=\"section_3_4\"></a>\n",
    "\n",
    "L'application doit être disponible sur un vaste panel d'outils de communication:\n",
    "- tablette\n",
    "- smartphone\n",
    "- navigateur web\n",
    "\n",
    "L'application doit être disponible pour l'ensemble du personnel d'intervention d'urgence et pas une seule personne par équipe.\n"
   ]
  },
  {
   "cell_type": "markdown",
   "metadata": {
    "id": "Snz4Ur94q_FU"
   },
   "source": [
    "## 4. Fonctions à réaliser <a class=\"anchor\" id=\"fonctions\"></a>"
   ]
  },
  {
   "cell_type": "markdown",
   "metadata": {
    "id": "sbSsyZx-q_IB"
   },
   "source": [
    "### 4.1. Ce que le système doit faire <a class=\"anchor\" id=\"section_4_1\"></a>\n",
    "\n",
    "Priorité | Fonction | Description | Critère de performance\n",
    "--- | --- | --- | ---\n",
    "1 | Prédiction | Assurer la prédiction du nombre d'interventions moyen sur un territoire donné et sur un laps de temps défini par l'utilisateur. | Accessible sur tous les navigateurs `Chrome`, `Firefox`, `Safari`, en version deskstop et portable.\n",
    "2 | Prédiction | Les prédictions seront mises à jour toutes les 5 minutes en fonction des données stockées sur le serveur. | Si des données sont ajoutées sur les serveurs les informations seront rafraîchies toutes les 5 minutes au minimum.\n",
    "3 | Graphique | Les prédictions doivent être visualisable sur des cartes, des graphiques, des histogrammes, des camemberts, etc. | L'utilisateur doit pouvoir naviguer parmis toutes les données et choisir lesquelles afficher. L'utilisateur peut `afficher` les indicateurs qui lui parait judicieux de voir et `masquer` ceux qu'il ne souhaite pas voir.\n",
    "4 | Assistance | L'application doit pouvoir proposer des indications d'aides pour la prise de décision sur la répartition des effectifs d'interventions d'urgence. | Cette assistance doit être accessible en permanence et adaptée à l'échelle d'un mois, d'une semaine et d'une journée.\n",
    "5 | Assistance | L'application effectue un tracking des effectifs et peut alerter sur une éventuelle surcharge des services d'urgence. | Doit être capable d'anticiper cette surcharge en temps réel.\n",
    "6 | Disponibilité | L'application doit être stable et ne pas interrompre ses services. | Nous assurons que l'application en sera pas indisponible plus de 1h en cas de panne.\n",
    "7 | Sécurité | L'application ne doit pas être disponible à des personnes non autorisées. | Nous assurons un service d'authentification individuelle pour le personnel d'intervention d'urgence."
   ]
  },
  {
   "cell_type": "markdown",
   "metadata": {
    "id": "O6JXHDT7r4Jp"
   },
   "source": [
    "### 4.2. Ce que le système ne doit pas faire <a class=\"anchor\" id=\"section_4_2\"></a>\n",
    "\n",
    "- Les données ne sont pas fournis par le fournisseur. C'est au client de s'assurer le bon envoie des données sur nos serveurs.\n",
    "- Le système ne doit pas favoriser une potentielle zone d'intervention au détriment d'une autre.\n",
    "- Le système n'est pas un outil de présentation, mais un réel outil de support aux équipe d'intervention."
   ]
  },
  {
   "cell_type": "markdown",
   "metadata": {
    "id": "_0Qxd1Crr4OQ"
   },
   "source": [
    "## 5. Contrainte du système <a class=\"anchor\" id=\"contrainte\"></a>"
   ]
  },
  {
   "cell_type": "markdown",
   "metadata": {
    "id": "dneNSGoNr4RG"
   },
   "source": [
    "### 5.1. Contraintes matérielles <a class=\"anchor\" id=\"section_5_1\"></a>\n",
    "\n",
    "Serveurs hébergés par nos soins, avec mise en place d'une API disponible sur le web pour accéder aux données du côté utilisateur. Les frais de serveurs sont à la charge du client, mais son entretien et compris dans le forfait bi-annuel.\n",
    "\n"
   ]
  },
  {
   "cell_type": "markdown",
   "metadata": {
    "id": "kOlOqdKhr4T4"
   },
   "source": [
    "### 5.2. Contraintes logicielles <a class=\"anchor\" id=\"section_5_2\"></a>\n",
    "\n",
    "Il faut que l'application soit disponible depuis les interfaces des services d'intervention d'urgence déjà en place."
   ]
  },
  {
   "cell_type": "markdown",
   "metadata": {
    "id": "Wa8_MgTMr4Wq"
   },
   "source": [
    "### 5.3. Contraintes fonctionnelles <a class=\"anchor\" id=\"section_5_3\"></a>\n",
    "\n",
    "Il faut prévoir la formation d'une équipe de support 24/24 et 7/7 pour dépannage de l'application sur l'ensemble de l'état de Pennsylvanie.\n",
    "\n",
    "Il faut également une équipe qui s'occupe du bon fonctionnement des serveurs et de la sécurité des données stockées."
   ]
  },
  {
   "cell_type": "markdown",
   "metadata": {
    "id": "ItocdTXzsYML"
   },
   "source": [
    "### 5.4. Contraintes d'ergonomie <a class=\"anchor\" id=\"section_5_4\"></a>\n",
    "\n",
    "L'application doit proposer des informations compréhensibles et un changement de l'affichage rapide, pour que les équipes puissent avoir une vue instantanée des données actuelles."
   ]
  },
  {
   "cell_type": "markdown",
   "metadata": {
    "id": "b_nDHTywsYO5"
   },
   "source": [
    "### 5.5. Autres facteurs de qualité exigés par le client <a class=\"anchor\" id=\"section_5_5\"></a>\n",
    "\n",
    "L'application doit fonctionner même avec des moments sans connexion au réseau, donc un stockage des données en cache doit être obligatoire.\n",
    "\n",
    "Il faut également que les temps de maintenance soient très court pour éviter un défaut d'accessibilité à l'application."
   ]
  },
  {
   "cell_type": "markdown",
   "metadata": {
    "id": "RBiyrO7wsiwi"
   },
   "source": [
    "## 6. Aspects contractuels <a class=\"anchor\" id=\"aspects\"></a>"
   ]
  },
  {
   "cell_type": "markdown",
   "metadata": {
    "id": "HRtG82uhsi4B"
   },
   "source": [
    "### 6.1. Délais et protocole de livraison <a class=\"anchor\" id=\"section_6_1\"></a>\n",
    "\n",
    "Nous prévoyons 2 mois de délais pour la mise en place:\n",
    "- 4 semaines pour le développement de l'application et de l'API.\n",
    "- 2 semaines pour l'intégration\n",
    "- 2 semaines pour la formation\n",
    "- 2 semaines de retour client et modifications potentielles"
   ]
  },
  {
   "cell_type": "markdown",
   "metadata": {
    "id": "M_Z5k3KMsi94"
   },
   "source": [
    "### 6.2. Aspect juridique et commerciaux <a class=\"anchor\" id=\"section_6_2\"></a>\n",
    "\n",
    "Les droits de propriétés sont conservés par le fournisseur. L'utilisateur à le droit d'accéder à l'application contre un forfait.\n",
    "\n",
    "Toute rupture du paiement entraînerait un arrêt des services proposés.\n"
   ]
  }
 ],
 "metadata": {
  "colab": {
   "name": "CDC pour l'Analyse de données.ipynb",
   "provenance": []
  },
  "kernelspec": {
   "display_name": "Python 3",
   "language": "python",
   "name": "python3"
  },
  "language_info": {
   "codemirror_mode": {
    "name": "ipython",
    "version": 3
   },
   "file_extension": ".py",
   "mimetype": "text/x-python",
   "name": "python",
   "nbconvert_exporter": "python",
   "pygments_lexer": "ipython3",
   "version": "3.8.5"
  }
 },
 "nbformat": 4,
 "nbformat_minor": 1
}
